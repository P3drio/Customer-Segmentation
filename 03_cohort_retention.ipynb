{
  "nbformat": 4,
  "nbformat_minor": 0,
  "metadata": {
    "colab": {
      "provenance": [],
      "authorship_tag": "ABX9TyOnMGQJmpb2SajV7GbKrXwc",
      "include_colab_link": true
    },
    "kernelspec": {
      "name": "python3",
      "display_name": "Python 3"
    },
    "language_info": {
      "name": "python"
    }
  },
  "cells": [
    {
      "cell_type": "markdown",
      "metadata": {
        "id": "view-in-github",
        "colab_type": "text"
      },
      "source": [
        "<a href=\"https://colab.research.google.com/github/P3drio/Customer-Segmentation/blob/main/03_cohort_retention.ipynb\" target=\"_parent\"><img src=\"https://colab.research.google.com/assets/colab-badge.svg\" alt=\"Open In Colab\"/></a>"
      ]
    },
    {
      "cell_type": "code",
      "execution_count": null,
      "metadata": {
        "id": "MN2m_KB0l6Rx"
      },
      "outputs": [],
      "source": [
        "# ===============================================\n",
        "# 03_cohort_retention.ipynb\n",
        "# Customer Value & Retention Analysis\n",
        "# ===============================================\n",
        "\n",
        "import pandas as pd\n",
        "import numpy as np\n",
        "import seaborn as sns\n",
        "import matplotlib.pyplot as plt\n",
        "\n",
        "# 1️⃣ Load cleaned data\n",
        "df = pd.read_csv('/content/clean_online_retail.csv')\n",
        "df['InvoiceDate'] = pd.to_datetime(df['InvoiceDate'])\n",
        "\n",
        "# 2️⃣ Extract InvoiceMonth and CohortMonth\n",
        "df['InvoiceMonth'] = df['InvoiceDate'].dt.to_period('M')\n",
        "df['CohortMonth'] = df.groupby('Customer ID')['InvoiceMonth'].transform('min')\n",
        "\n",
        "# 3️⃣ Compute Cohort Index (months since first purchase)\n",
        "def get_month_diff(end, start):\n",
        "    return (end.year - start.year) * 12 + (end.month - start.month) + 1\n",
        "\n",
        "df['CohortIndex'] = get_month_diff(df['InvoiceMonth'].dt.to_timestamp(), df['CohortMonth'].dt.to_timestamp())\n",
        "\n",
        "# 4️⃣ Build Cohort Table\n",
        "cohort_data = df.groupby(['CohortMonth', 'CohortIndex'])['Customer ID'].nunique().reset_index()\n",
        "\n",
        "# 5️⃣ Pivot table\n",
        "cohort_pivot = cohort_data.pivot(index='CohortMonth', columns='CohortIndex', values='Customer ID')\n",
        "\n",
        "# 6️⃣ Calculate retention rates\n",
        "cohort_size = cohort_pivot.iloc[:,0]\n",
        "retention = cohort_pivot.divide(cohort_size, axis=0).round(3)\n",
        "\n",
        "# 7️⃣ Visualize retention\n",
        "plt.figure(figsize=(12,6))\n",
        "sns.heatmap(retention, annot=True, fmt='.0%', cmap='Blues')\n",
        "plt.title('Customer Retention by Monthly Cohort')\n",
        "plt.ylabel('Cohort (First Purchase Month)')\n",
        "plt.xlabel('Months Since First Purchase')\n",
        "plt.show()\n",
        "\n",
        "# 8️⃣ Save retention data\n",
        "retention.to_csv('/content/cohort_retention.csv')\n",
        "print(\"✅ Cohort retention matrix saved as cohort_retention.csv\")"
      ]
    }
  ]
}