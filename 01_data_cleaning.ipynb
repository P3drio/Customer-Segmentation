{
  "nbformat": 4,
  "nbformat_minor": 0,
  "metadata": {
    "colab": {
      "provenance": [],
      "authorship_tag": "ABX9TyN81UkzRPpWv4a4k1icxPUX",
      "include_colab_link": true
    },
    "kernelspec": {
      "name": "python3",
      "display_name": "Python 3"
    },
    "language_info": {
      "name": "python"
    }
  },
  "cells": [
    {
      "cell_type": "markdown",
      "metadata": {
        "id": "view-in-github",
        "colab_type": "text"
      },
      "source": [
        "<a href=\"https://colab.research.google.com/github/P3drio/Customer-Segmentation/blob/main/01_data_cleaning.ipynb\" target=\"_parent\"><img src=\"https://colab.research.google.com/assets/colab-badge.svg\" alt=\"Open In Colab\"/></a>"
      ]
    },
    {
      "cell_type": "markdown",
      "source": [
        "# RFM Segmentation\n",
        "\n",
        "## 1. Load Clean Data\n",
        "- Import `clean_online_retail.csv`\n",
        "- Set snapshot date (max InvoiceDate + 1 day)\n",
        "\n",
        "## 2. Compute RFM Metrics\n",
        "- Recency = snapshot_date - last_purchase_date\n",
        "- Frequency = count of invoices per customer\n",
        "- Monetary = sum of TotalPrice per customer\n",
        "\n",
        "## 3. Segment into Quartiles\n",
        "- Use `pd.qcut()` for Recency, Frequency, Monetary\n",
        "- Create composite RFM score like `RFM = R + F + M`\n",
        "\n",
        "## 4. Visualize Segments\n",
        "- Histograms of R, F, M\n",
        "- Scatter plot Frequency vs Monetary\n",
        "- Boxplot of Monetary by RFM score\n",
        "\n",
        "## 5. Export\n",
        "- Save as `data/customers_rfm.csv`\n"
      ],
      "metadata": {
        "id": "GYBkU-68iZWp"
      }
    },
    {
      "cell_type": "code",
      "source": [
        "# ===============================================\n",
        "# 01_data_cleaning.ipynb\n",
        "# Customer Value & Retention Analysis\n",
        "# ===============================================\n",
        "\n",
        "# 1️⃣ Import libraries\n",
        "import pandas as pd\n",
        "import numpy as np\n",
        "\n",
        "# 2️⃣ Load raw data\n",
        "df = pd.read_csv('/content/online_retail_II.csv', encoding='unicode_escape')\n",
        "print(\"Initial shape:\", df.shape)\n",
        "\n",
        "# 3️⃣ Inspect dataset\n",
        "df.info()\n",
        "df.head()\n",
        "\n",
        "# 4️⃣ Handle missing values\n",
        "df = df.dropna(subset=['Customer ID'])\n",
        "print(\"After removing missing Customer IDs:\", df.shape)\n",
        "\n",
        "# 5️⃣ Remove duplicates\n",
        "df = df.drop_duplicates()\n",
        "\n",
        "# 6️⃣ Remove canceled transactions\n",
        "df = df[~df['Invoice'].astype(str).str.startswith('C')]\n",
        "\n",
        "# 7️⃣ Convert InvoiceDate to datetime\n",
        "df['InvoiceDate'] = pd.to_datetime(df['InvoiceDate'])\n",
        "\n",
        "# 8️⃣ Create TotalPrice\n",
        "df['TotalPrice'] = df['Quantity'] * df['Price']\n",
        "\n",
        "# 9️⃣ Basic sanity checks\n",
        "print(df.describe())\n",
        "\n",
        "# 🔹 Optional: filter out negative or zero prices\n",
        "df = df[df['TotalPrice'] > 0]\n",
        "\n",
        "# 🔹 Save cleaned dataset\n",
        "df.to_csv('/content/clean_online_retail.csv', index=False)\n",
        "print(\"✅ Cleaned data saved as clean_online_retail.csv\")"
      ],
      "metadata": {
        "colab": {
          "base_uri": "https://localhost:8080/"
        },
        "id": "QdgUUuh8kKdZ",
        "outputId": "f96ddac7-861f-490a-d360-b2ae501880cc"
      },
      "execution_count": 5,
      "outputs": [
        {
          "output_type": "stream",
          "name": "stdout",
          "text": [
            "Initial shape: (70847, 8)\n",
            "<class 'pandas.core.frame.DataFrame'>\n",
            "RangeIndex: 70847 entries, 0 to 70846\n",
            "Data columns (total 8 columns):\n",
            " #   Column       Non-Null Count  Dtype  \n",
            "---  ------       --------------  -----  \n",
            " 0   Invoice      70847 non-null  object \n",
            " 1   StockCode    70847 non-null  object \n",
            " 2   Description  70428 non-null  object \n",
            " 3   Quantity     70846 non-null  float64\n",
            " 4   InvoiceDate  70846 non-null  object \n",
            " 5   Price        70846 non-null  float64\n",
            " 6   Customer ID  49579 non-null  float64\n",
            " 7   Country      70846 non-null  object \n",
            "dtypes: float64(3), object(5)\n",
            "memory usage: 4.3+ MB\n",
            "After removing missing Customer IDs: (49579, 8)\n",
            "           Quantity                    InvoiceDate         Price  \\\n",
            "count  47326.000000                          47326  47326.000000   \n",
            "mean      15.204370  2009-12-23 15:04:38.661623552      3.302451   \n",
            "min        1.000000            2009-12-01 07:45:00      0.000000   \n",
            "25%        2.000000            2009-12-07 13:45:00      1.250000   \n",
            "50%        5.000000            2009-12-15 15:06:00      2.100000   \n",
            "75%       12.000000            2010-01-12 15:48:00      3.810000   \n",
            "max     9312.000000            2010-01-26 14:43:00   1213.020000   \n",
            "std      104.202885                            NaN     13.053318   \n",
            "\n",
            "        Customer ID    TotalPrice  \n",
            "count  47326.000000  47326.000000  \n",
            "mean   15394.127372     24.238331  \n",
            "min    12346.000000      0.000000  \n",
            "25%    14064.000000      5.040000  \n",
            "50%    15311.000000     12.500000  \n",
            "75%    16854.250000     19.800000  \n",
            "max    18286.000000   2386.800000  \n",
            "std     1674.695229     70.710201  \n",
            "✅ Cleaned data saved as clean_online_retail.csv\n"
          ]
        }
      ]
    }
  ]
}