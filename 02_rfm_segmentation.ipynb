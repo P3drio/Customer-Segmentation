{
  "nbformat": 4,
  "nbformat_minor": 0,
  "metadata": {
    "colab": {
      "provenance": [],
      "authorship_tag": "ABX9TyPvVUCHM68119l1LESOrWAN",
      "include_colab_link": true
    },
    "kernelspec": {
      "name": "python3",
      "display_name": "Python 3"
    },
    "language_info": {
      "name": "python"
    }
  },
  "cells": [
    {
      "cell_type": "markdown",
      "metadata": {
        "id": "view-in-github",
        "colab_type": "text"
      },
      "source": [
        "<a href=\"https://colab.research.google.com/github/P3drio/Customer-Segmentation/blob/main/02_rfm_segmentation.ipynb\" target=\"_parent\"><img src=\"https://colab.research.google.com/assets/colab-badge.svg\" alt=\"Open In Colab\"/></a>"
      ]
    },
    {
      "cell_type": "code",
      "execution_count": null,
      "metadata": {
        "id": "1RAYkF3uiGDP"
      },
      "outputs": [],
      "source": [
        "# ===============================================\n",
        "# 02_rfm_segmentation.ipynb\n",
        "# Customer Value & Retention Analysis\n",
        "# ===============================================\n",
        "\n",
        "import pandas as pd\n",
        "import numpy as np\n",
        "import matplotlib.pyplot as plt\n",
        "import seaborn as sns\n",
        "from datetime import timedelta\n",
        "\n",
        "# 1️⃣ Load cleaned data\n",
        "df = pd.read_csv('/content/clean_online_retail.csv')\n",
        "df['InvoiceDate'] = pd.to_datetime(df['InvoiceDate'])\n",
        "\n",
        "# 2️⃣ Define snapshot date\n",
        "snapshot_date = df['InvoiceDate'].max() + timedelta(days=1)\n",
        "\n",
        "# 3️⃣ Compute RFM metrics\n",
        "rfm = df.groupby('Customer ID').agg({\n",
        "    'InvoiceDate': lambda x: (snapshot_date - x.max()).days,\n",
        "    'Invoice': 'nunique',\n",
        "    'TotalPrice': 'sum'\n",
        "}).reset_index()\n",
        "\n",
        "rfm.columns = ['CustomerID', 'Recency', 'Frequency', 'Monetary']\n",
        "\n",
        "# 4️⃣ Filter out zero or negative spenders\n",
        "rfm = rfm[rfm['Monetary'] > 0]\n",
        "\n",
        "# 5️⃣ Create quartile-based scores\n",
        "rfm['R_Score'] = pd.qcut(rfm['Recency'], 4, labels=[4,3,2,1]).astype(int)\n",
        "rfm['F_Score'] = pd.qcut(rfm['Frequency'].rank(method='first'), 4, labels=[1,2,3,4]).astype(int)\n",
        "rfm['M_Score'] = pd.qcut(rfm['Monetary'], 4, labels=[1,2,3,4]).astype(int)\n",
        "\n",
        "# 6️⃣ Composite score\n",
        "rfm['RFM_Score'] = rfm[['R_Score','F_Score','M_Score']].sum(axis=1)\n",
        "\n",
        "# 7️⃣ Quick visualization\n",
        "plt.figure(figsize=(7,5))\n",
        "sns.scatterplot(data=rfm, x='Frequency', y='Monetary', hue='RFM_Score', palette='viridis')\n",
        "plt.title('Customer Segments by RFM Score')\n",
        "plt.show()\n",
        "\n",
        "# 8️⃣ Save output\n",
        "rfm.to_csv('/content/customers_rfm.csv', index=False)\n",
        "print(\"✅ RFM table saved as customers_rfm.csv\")"
      ]
    }
  ]
}